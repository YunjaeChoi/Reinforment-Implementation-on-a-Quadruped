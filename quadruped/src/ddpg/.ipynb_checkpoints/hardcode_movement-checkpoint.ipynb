{
 "cells": [
  {
   "cell_type": "code",
   "execution_count": 17,
   "metadata": {},
   "outputs": [],
   "source": [
    "from quadruped_env import AllJoints, QuadrupedEnvironment, ReplayBuffer, OUNoise, A2C, DDPG\n",
    "import rospy\n",
    "import numpy as np\n",
    "\n",
    "\n",
    "joint_lst = ['front_right_leg1_joint', 'front_right_leg2_joint', 'front_right_leg3_joint',\n",
    "               'front_left_leg1_joint', 'front_left_leg2_joint', 'front_left_leg3_joint',\n",
    "               'back_right_leg1_joint', 'back_right_leg2_joint','back_right_leg3_joint',\n",
    "               'back_left_leg1_joint', 'back_left_leg2_joint', 'back_left_leg3_joint']\n",
    "\n",
    "joint_angle_first = np.array([[-0.01,-0.35, -0.35,\n",
    "                         -0.01, 0.01, -0.1,\n",
    "                         -0.01, 0.01, -0.2,\n",
    "                         -0.01, 0.01, 0.2],\n",
    "                        [0.35, -0.15, -0.35,\n",
    "                         -0.01, 0.01, -0.1,\n",
    "                         -0.01, 0.01, -0.2,\n",
    "                         -0.01, 0.01, 0.2]])\n",
    "joint_angle_repeat = np.array([[0.35, -0.15, -0.35,\n",
    "                         -0.01, 0.01, -0.1,\n",
    "                         -0.01, -0.35, 0.35,\n",
    "                         -0.01, 0.01, 0.2],\n",
    "                        [0.35, -0.15, -0.35,\n",
    "                         -0.01, 0.01, -0.1,\n",
    "                         0.35, -0.15, 0.35,\n",
    "                         -0.01, 0.01, 0.2],\n",
    "                        \n",
    "                        \n",
    "                        [-0.35, -0.35, 0.25,\n",
    "                         -0.01, 0.01, -0.1,\n",
    "                         0.35, -0.15, 0.35,\n",
    "                         -0.01, 0.01, 0.2],\n",
    "                        [-0.35, 0.15, 0.25,\n",
    "                         -0.01, 0.01, -0.1,\n",
    "                         0.35, -0.15, 0.35,\n",
    "                         -0.01, 0.01, 0.2],\n",
    "                        \n",
    "                        [-0.01, 0.01, 0.1,\n",
    "                         0.35, -0.15, 0.35,\n",
    "                         -0.01, 0.01, -0.2,\n",
    "                         -0.35, 0.14, 0.35],\n",
    "                        \n",
    "                        [-0.01, 0.01, 0.1,\n",
    "                         0.35, -0.15, 0.35,\n",
    "                         -0.01, 0.01, -0.2,\n",
    "                         -0.01, -0.35, -0.35],\n",
    "                        [-0.01, 0.01, 0.1,\n",
    "                         0.35, -0.15, 0.35,\n",
    "                         -0.01, 0.01, -0.2,\n",
    "                         0.35, -0.15, -0.35],\n",
    "                        \n",
    "                        [-0.01, 0.01, 0.1,\n",
    "                         -0.35, -0.35, -0.25,\n",
    "                         -0.01, 0.01, -0.2,\n",
    "                         0.35, -0.15, -0.35],\n",
    "                        [-0.01, 0.01, 0.1,\n",
    "                         -0.35, 0.15, -0.25,\n",
    "                         -0.01, 0.01, -0.2,\n",
    "                         0.35, -0.15, -0.35],\n",
    "                        \n",
    "                        [0.35, -0.15, -0.35,\n",
    "                         -0.01, 0.01, -0.1,\n",
    "                         -0.35, 0.14, -0.35,\n",
    "                         -0.01, 0.01, 0.2]\n",
    "                        \n",
    "                       ])"
   ]
  },
  {
   "cell_type": "code",
   "execution_count": 2,
   "metadata": {},
   "outputs": [
    {
     "data": {
      "text/plain": [
       "(10, 12)"
      ]
     },
     "execution_count": 2,
     "metadata": {},
     "output_type": "execute_result"
    }
   ],
   "source": [
    "joint_angle_repeat.shape"
   ]
  },
  {
   "cell_type": "code",
   "execution_count": 3,
   "metadata": {},
   "outputs": [
    {
     "name": "stdout",
     "output_type": "stream",
     "text": [
      "[INFO] [1525165066.921913, 0.000000]: Waiting for joint trajectory action\n",
      "[INFO] [1525165067.191306, 15.265000]: Found joint trajectory action!\n"
     ]
    }
   ],
   "source": [
    "env = QuadrupedEnvironment()"
   ]
  },
  {
   "cell_type": "code",
   "execution_count": 41,
   "metadata": {},
   "outputs": [
    {
     "data": {
      "text/plain": [
       "(array([[-2.75561737e-02,  6.15078281e-02,  2.01874912e-01,\n",
       "          2.26235190e-02,  7.63325936e-02, -2.12949955e-01,\n",
       "          3.94332915e-02,  1.43874193e-01, -4.40110480e-01,\n",
       "         -5.37283519e-02,  6.21364102e-02,  4.37900243e-01,\n",
       "          0.00000000e+00,  0.00000000e+00,  0.00000000e+00,\n",
       "          0.00000000e+00,  0.00000000e+00,  0.00000000e+00,\n",
       "          0.00000000e+00,  0.00000000e+00,  0.00000000e+00,\n",
       "          0.00000000e+00,  0.00000000e+00,  0.00000000e+00,\n",
       "         -1.60832427e-03, -3.60417301e-03, -5.04139699e-05,\n",
       "          9.99992210e-01, -1.04139961e-01,  6.97255813e-03,\n",
       "         -1.01617270e-02,  4.76024386e-02, -7.57065235e-02,\n",
       "          6.06327836e-01]]), False)"
      ]
     },
     "execution_count": 41,
     "metadata": {},
     "output_type": "execute_result"
    }
   ],
   "source": [
    "env.reset()"
   ]
  },
  {
   "cell_type": "code",
   "execution_count": 42,
   "metadata": {},
   "outputs": [],
   "source": [
    "for i in xrange(len(joint_angle_first)):\n",
    "    env.all_joints.move(joint_angle_first[i])\n",
    "for i in xrange(3):\n",
    "    for i in xrange(len(joint_angle_repeat)):\n",
    "        env.all_joints.move(joint_angle_repeat[i])\n",
    "        rospy.sleep(0.1)"
   ]
  },
  {
   "cell_type": "code",
   "execution_count": null,
   "metadata": {},
   "outputs": [],
   "source": [
    "for i in xrange(5):\n",
    "    for i in xrange(len(joint_angle_repeat)):\n",
    "        env.all_joints.move(joint_angle_repeat[i])\n",
    "        rospy.sleep(0.3)"
   ]
  },
  {
   "cell_type": "code",
   "execution_count": null,
   "metadata": {},
   "outputs": [],
   "source": []
  }
 ],
 "metadata": {
  "kernelspec": {
   "display_name": "Python 2",
   "language": "python",
   "name": "python2"
  },
  "language_info": {
   "codemirror_mode": {
    "name": "ipython",
    "version": 2
   },
   "file_extension": ".py",
   "mimetype": "text/x-python",
   "name": "python",
   "nbconvert_exporter": "python",
   "pygments_lexer": "ipython2",
   "version": "2.7.12"
  }
 },
 "nbformat": 4,
 "nbformat_minor": 2
}
