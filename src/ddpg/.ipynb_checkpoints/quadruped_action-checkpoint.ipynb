{
 "cells": [
  {
   "cell_type": "code",
   "execution_count": 1,
   "metadata": {},
   "outputs": [],
   "source": [
    "from __future__ import print_function\n",
    "from quadruped_env import AllJoints, QuadrupedEnvironment, ReplayBuffer, OUNoise, A2C, DDPG"
   ]
  },
  {
   "cell_type": "code",
   "execution_count": 2,
   "metadata": {},
   "outputs": [
    {
     "name": "stdout",
     "output_type": "stream",
     "text": [
      "[INFO] [1525801679.419845, 0.000000]: Waiting for joint trajectory action\n",
      "[INFO] [1525801679.691216, 5.646000]: Found joint trajectory action!\n"
     ]
    }
   ],
   "source": [
    "env = QuadrupedEnvironment()"
   ]
  },
  {
   "cell_type": "code",
   "execution_count": 12,
   "metadata": {},
   "outputs": [],
   "source": [
    "observation, done = env.reset()"
   ]
  },
  {
   "cell_type": "code",
   "execution_count": null,
   "metadata": {
    "collapsed": true
   },
   "outputs": [],
   "source": [
    "state_shape = env.state_shape\n",
    "action_shape = env.action_shape\n",
    "agent = DDPG(state_shape,action_shape,batch_size=128,gamma=0.995,tau=0.001,actor_lr=0.0001, critic_lr=0.001)"
   ]
  },
  {
   "cell_type": "code",
   "execution_count": null,
   "metadata": {
    "collapsed": true,
    "scrolled": true
   },
   "outputs": [],
   "source": [
    "max_episode = 500\n",
    "observation, done = env.reset()\n",
    "action = agent.act(observation)\n",
    "observation, reward, done = env.step(action)\n",
    "for i in range(max_episode):\n",
    "    print('episode:', i)\n",
    "    step_num = 0\n",
    "    while done == False:\n",
    "        step_num += 1\n",
    "        action = agent.step(observation, reward, done)\n",
    "        observation, reward, done = env.step(action)\n",
    "        print('reward:',reward,'step:',step_num)\n",
    "    action = agent.step(observation, reward, done)\n",
    "    observation, done = env.reset()\n",
    "    "
   ]
  },
  {
   "cell_type": "code",
   "execution_count": null,
   "metadata": {
    "collapsed": true
   },
   "outputs": [],
   "source": [
    "pos = [- np.ones(12) * ((i%2)*2.0 -1.0) for i in xrange(10)]\n",
    "for p in pos:\n",
    "    env.all_joints.move(p)"
   ]
  },
  {
   "cell_type": "code",
   "execution_count": null,
   "metadata": {
    "collapsed": true
   },
   "outputs": [],
   "source": [
    "p = np.array([-0.5, 0.0, -1.0,\n",
    "                                    -0.5, 0.0, -1.0,\n",
    "                                    -0.5, 0.0, -1.0,\n",
    "                                    -0.5, 0.0, -1.0])\n",
    "env.all_joints.move(p)"
   ]
  },
  {
   "cell_type": "code",
   "execution_count": null,
   "metadata": {
    "collapsed": true
   },
   "outputs": [],
   "source": []
  }
 ],
 "metadata": {
  "kernelspec": {
   "display_name": "Python 2",
   "language": "python",
   "name": "python2"
  },
  "language_info": {
   "codemirror_mode": {
    "name": "ipython",
    "version": 2
   },
   "file_extension": ".py",
   "mimetype": "text/x-python",
   "name": "python",
   "nbconvert_exporter": "python",
   "pygments_lexer": "ipython2",
   "version": "2.7.12"
  }
 },
 "nbformat": 4,
 "nbformat_minor": 2
}
